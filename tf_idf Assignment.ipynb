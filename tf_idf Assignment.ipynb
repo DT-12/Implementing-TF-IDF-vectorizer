{
 "cells": [
  {
   "cell_type": "markdown",
   "metadata": {},
   "source": [
    "## Implementing TFIDF vectorizer"
   ]
  },
  {
   "cell_type": "markdown",
   "metadata": {},
   "source": [
    "#### Task-1\n",
    "* Build a TF-IDF Vectorizer and compare it's result with sklearn's tf-idf vectorizer"
   ]
  },
  {
   "cell_type": "code",
   "execution_count": 1,
   "metadata": {},
   "outputs": [],
   "source": [
    "# first let us create a function that calculates idf values for each word in the corpus\n",
    "def idf(corpus, unique_words):\n",
    "    \"\"\"\n",
    "    Calculate the inverse document frequency of a given word.\n",
    "    :param corpus: The corpus to calculate idf over.\n",
    "    :param unique_words: The word to calculate idf for.\n",
    "    :return: The idf value.\n",
    "    \"\"\"\n",
    "    idf_dict = {}\n",
    "    # get the number of documents in the corpus\n",
    "    N = len(corpus)\n",
    "    \n",
    "    for document in unique_words:\n",
    "        # get the number of documents that contain the word\n",
    "        n = 0\n",
    "        for sen in corpus:\n",
    "            if document in sen.split():\n",
    "                n += 1\n",
    "            idf_dict[document]=(math.log((1+N)/(n+1)))+1\n",
    "    return idf_dict \n",
    "    corpus = [\n",
    "      'this is the first document',\n",
    "      'this document is the second document',\n",
    "      'and this is the third one',\n",
    "      'is this the first document',\n",
    " ]"
   ]
  },
  {
   "cell_type": "code",
   "execution_count": 2,
   "metadata": {},
   "outputs": [
    {
     "name": "stdout",
     "output_type": "stream",
     "text": [
      "{'and': 0, 'document': 1, 'first': 2, 'is': 3, 'one': 4, 'second': 5, 'the': 6, 'third': 7, 'this': 8} {'and': 1.916290731874155, 'document': 1.2231435513142097, 'first': 1.5108256237659907, 'is': 1.0, 'one': 1.916290731874155, 'second': 1.916290731874155, 'the': 1.0, 'third': 1.916290731874155, 'this': 1.0}\n"
     ]
    }
   ],
   "source": [
    "# creating a fit method for the TF-IDF model\n",
    "import math\n",
    "\n",
    "def fit(dataset):    \n",
    "    unique_words = set() \n",
    "    if isinstance(dataset, (list,)):\n",
    "        for row in dataset: \n",
    "            for word in row.split(): \n",
    "                if len(word) < 2:\n",
    "                    continue\n",
    "                unique_words.add(word)\n",
    "        unique_words = sorted(list(unique_words))\n",
    "        vocab = {j:i for i,j in enumerate(unique_words)}\n",
    "        \n",
    "        idf_values_of_unique_words = idf(dataset, unique_words)\n",
    "        return vocab, idf_values_of_unique_words\n",
    "    else:\n",
    "        print(\"you need to pass list of sentance\")\n",
    "\n",
    "\n",
    "corpus = [\n",
    "      'this is the first document',\n",
    "      'this document is the second document',\n",
    "      'and this is the third one',\n",
    "      'is this the first document',\n",
    " ] \n",
    "\n",
    "vocabulary, idf_of_vocab = fit(corpus)\n",
    "print(vocabulary, idf_of_vocab)"
   ]
  },
  {
   "cell_type": "code",
   "execution_count": 3,
   "metadata": {},
   "outputs": [
    {
     "name": "stdout",
     "output_type": "stream",
     "text": [
      "[1.916290731874155, 1.2231435513142097, 1.5108256237659907, 1.0, 1.916290731874155, 1.916290731874155, 1.0, 1.916290731874155, 1.0]\n"
     ]
    }
   ],
   "source": [
    "print(list(idf_of_vocab.values()))\n",
    "# After using the fit function on the corpus the vocab has 9 words in it,\n",
    "# and each has its idf value."
   ]
  },
  {
   "cell_type": "code",
   "execution_count": 4,
   "metadata": {},
   "outputs": [],
   "source": [
    "# let's see if the above result matches with sklearn's\n",
    "from sklearn.feature_extraction.text import TfidfVectorizer\n",
    "vectorizer = TfidfVectorizer()\n",
    "vectorizer.fit(corpus)\n",
    "skl_output = vectorizer.transform(corpus)"
   ]
  },
  {
   "cell_type": "code",
   "execution_count": 5,
   "metadata": {},
   "outputs": [
    {
     "name": "stdout",
     "output_type": "stream",
     "text": [
      "[1.91629073 1.22314355 1.51082562 1.         1.91629073 1.91629073\n",
      " 1.         1.91629073 1.        ]\n"
     ]
    }
   ],
   "source": [
    "# Here we will print the sklearn tfidf vectorizer idf values after applying the fit method\n",
    "print(vectorizer.idf_)"
   ]
  },
  {
   "cell_type": "code",
   "execution_count": 6,
   "metadata": {},
   "outputs": [],
   "source": [
    "from collections import Counter\n",
    "from tqdm import tqdm\n",
    "from scipy.sparse import csr_matrix\n",
    "import math\n",
    "import operator\n",
    "from sklearn.preprocessing import normalize\n",
    "import numpy as np"
   ]
  },
  {
   "cell_type": "code",
   "execution_count": 7,
   "metadata": {},
   "outputs": [
    {
     "name": "stderr",
     "output_type": "stream",
     "text": [
      "c:\\users\\yerpu\\appdata\\local\\programs\\python\\python38-32\\lib\\site-packages\\scipy\\sparse\\_index.py:84: SparseEfficiencyWarning: Changing the sparsity structure of a csr_matrix is expensive. lil_matrix is more efficient.\n",
      "  self._set_intXint(row, col, x.flat[0])\n"
     ]
    }
   ],
   "source": [
    "# now we will be creating a Transform function for the TF-IDF model\n",
    "def transform(dataset, vocabulary, idf_of_vocab):\n",
    "    sparse_matrix= csr_matrix( (len(dataset), len(vocabulary)), dtype=np.float64)\n",
    "    for row  in range(0,len(dataset)):\n",
    "        number_of_words_in_sentence=Counter(dataset[row].split())\n",
    "        for word in dataset[row].split():\n",
    "            if word in  list(vocabulary.keys()):\n",
    "               tf_idf_value=(number_of_words_in_sentence[word]/len(dataset[row].split()))*(idf_of_vocab[word])\n",
    "               sparse_matrix[row,vocabulary[word]]=tf_idf_value\n",
    "    # refferred : https://scikit-learn.org/stable/modules/generated/sklearn.preprocessing.normalize.html\n",
    "    output = normalize(sparse_matrix, norm='l2', axis=1, copy=True, return_norm=False)\n",
    "    return output\n",
    "final_output=transform(corpus,vocabulary,idf_of_vocab)\n",
    "# print(final_output)\n",
    "# print(final_output.shape)\n"
   ]
  },
  {
   "cell_type": "code",
   "execution_count": 8,
   "metadata": {},
   "outputs": [
    {
     "name": "stdout",
     "output_type": "stream",
     "text": [
      "[[0.         0.46979139 0.58028582 0.38408524 0.         0.\n",
      "  0.38408524 0.         0.38408524]]\n"
     ]
    }
   ],
   "source": [
    "# To understand the output better,\n",
    "#here we are converting the sparse output matrix to dense matrix and printing it.\n",
    "print(final_output[0].toarray())"
   ]
  },
  {
   "cell_type": "code",
   "execution_count": 9,
   "metadata": {},
   "outputs": [
    {
     "name": "stdout",
     "output_type": "stream",
     "text": [
      "[[0.         0.46979139 0.58028582 0.38408524 0.         0.\n",
      "  0.38408524 0.         0.38408524]]\n"
     ]
    }
   ],
   "source": [
    "# checking with sklearn's vectorizer\n",
    "print(skl_output[0].toarray())"
   ]
  },
  {
   "cell_type": "code",
   "execution_count": 10,
   "metadata": {},
   "outputs": [
    {
     "data": {
      "text/plain": [
       "'Both the results satisfies with our implementation'"
      ]
     },
     "execution_count": 10,
     "metadata": {},
     "output_type": "execute_result"
    }
   ],
   "source": [
    "\"\"\"Both the results satisfies with our implementation\"\"\""
   ]
  },
  {
   "cell_type": "code",
   "execution_count": 11,
   "metadata": {},
   "outputs": [],
   "source": [
    "################End of task 1############################"
   ]
  },
  {
   "cell_type": "markdown",
   "metadata": {},
   "source": [
    "#### Task-2\n",
    "*  Implement max features functionality"
   ]
  },
  {
   "cell_type": "code",
   "execution_count": 12,
   "metadata": {},
   "outputs": [
    {
     "name": "stdout",
     "output_type": "stream",
     "text": [
      "Number of documents in corpus =  746\n"
     ]
    }
   ],
   "source": [
    "import pickle\n",
    "with open('cleaned_strings', 'rb') as f:\n",
    "    corpus = pickle.load(f)\n",
    "    \n",
    "# printing the length of the corpus loaded\n",
    "print(\"Number of documents in corpus = \",len(corpus))"
   ]
  },
  {
   "cell_type": "code",
   "execution_count": 13,
   "metadata": {},
   "outputs": [],
   "source": [
    "def modified_idf(corpus, unique_words):\n",
    "    \"\"\"\n",
    "    Calculate the inverse document frequency of a given word.\n",
    "    :param corpus: The corpus to calculate idf over.\n",
    "    :param unique_words: The word to calculate idf for.\n",
    "    :return: The idf value.\n",
    "    \"\"\"\n",
    "    idf_dict = {}\n",
    "    # get the number of documents in the corpus\n",
    "    N = len(corpus)\n",
    "    \n",
    "    for document in unique_words:\n",
    "        # get the number of documents that contain the word\n",
    "        n = 0\n",
    "        for sen in corpus:\n",
    "            if document in sen.split():\n",
    "                n += 1\n",
    "            idf_dict[document]=(math.log((1+N)/(n+1)))+1\n",
    "    return idf_dict \n"
   ]
  },
  {
   "cell_type": "code",
   "execution_count": 14,
   "metadata": {},
   "outputs": [],
   "source": [
    "import math\n",
    "# here we will be modifying the fit and transform functions so that our vocab will contain only 50 terms from the pickle file with top idf scores.\n",
    "def fit_modified(dataset):\n",
    "    unique_words = set() \n",
    "    if isinstance(dataset, (list,)):\n",
    "        for row in dataset:\n",
    "            for word in row.split(): \n",
    "                if len(word) < 2:\n",
    "                    continue\n",
    "                unique_words.add(word)\n",
    "                    \n",
    "        unique_words = sorted(list(unique_words))\n",
    "        vocab = {j:i for i,j in enumerate(unique_words)}\n",
    "        \n",
    "        idf_values_of_unique_50_words = modified_idf(dataset, unique_words)\n",
    "        return vocab, idf_values_of_unique_50_words, unique_words\n",
    "    else:\n",
    "        print(\"you need to pass list of sentance\")\n",
    "vocabulary, idf_of_vocabulary_top_50,unique_words = fit_modified(corpus)\n",
    "# print(fit_modified(corpus))"
   ]
  },
  {
   "cell_type": "code",
   "execution_count": 15,
   "metadata": {},
   "outputs": [],
   "source": [
    "# creating a list of top 50 idf values\n",
    "my_lst = list(idf_of_vocabulary_top_50.values())\n",
    "my_lst = sorted(my_lst, reverse=True)\n",
    "my_lst = my_lst[:50]\n",
    "#above list is used in the later cell; it gives top 50 values of idf score\n",
    "# sorting the dictionary to get top 50 idf scores and storing it as sortdict\n",
    "s_lst = sorted(idf_of_vocabulary_top_50.items(), reverse=True, key=lambda x:x[1])\n",
    "sortdict = dict(s_lst)\n",
    "# print(sortdict)\n"
   ]
  },
  {
   "cell_type": "code",
   "execution_count": 16,
   "metadata": {},
   "outputs": [],
   "source": [
    "from collections import Counter\n",
    "from tqdm import tqdm\n",
    "from scipy.sparse import csr_matrix\n",
    "import math\n",
    "import operator\n",
    "from sklearn.preprocessing import normalize\n",
    "import numpy as np"
   ]
  },
  {
   "cell_type": "code",
   "execution_count": 17,
   "metadata": {},
   "outputs": [
    {
     "name": "stdout",
     "output_type": "stream",
     "text": [
      "(746, 2886)\n"
     ]
    }
   ],
   "source": [
    "# cross checking our findings with sklearn's for the pickle file\n",
    "from sklearn.feature_extraction.text import CountVectorizer, TfidfVectorizer\n",
    "vectorizer = TfidfVectorizer()\n",
    "X = vectorizer.fit_transform(corpus)\n",
    "# print(vectorizer.get_feature_names())\n",
    "print(X.shape)"
   ]
  },
  {
   "cell_type": "code",
   "execution_count": 18,
   "metadata": {},
   "outputs": [
    {
     "name": "stdout",
     "output_type": "stream",
     "text": [
      "[6.922918004572872, 6.922918004572872, 6.922918004572872, 6.922918004572872, 6.922918004572872, 6.922918004572872, 6.922918004572872, 6.922918004572872, 6.922918004572872, 6.922918004572872, 6.922918004572872, 6.922918004572872, 6.922918004572872, 6.922918004572872, 6.922918004572872, 6.922918004572872, 6.922918004572872, 6.922918004572872, 6.922918004572872, 6.922918004572872, 6.922918004572872, 6.922918004572872, 6.922918004572872, 6.922918004572872, 6.922918004572872, 6.922918004572872, 6.922918004572872, 6.922918004572872, 6.922918004572872, 6.922918004572872, 6.922918004572872, 6.922918004572872, 6.922918004572872, 6.922918004572872, 6.922918004572872, 6.922918004572872, 6.922918004572872, 6.922918004572872, 6.922918004572872, 6.922918004572872, 6.922918004572872, 6.922918004572872, 6.922918004572872, 6.922918004572872, 6.922918004572872, 6.922918004572872, 6.922918004572872, 6.922918004572872, 6.922918004572872, 6.922918004572872]\n"
     ]
    }
   ],
   "source": [
    "# created in cell 15, my_lst gives us top 50 \n",
    "#idf values of pickle file which we have implemented from scratch.\n",
    "print(my_lst)"
   ]
  },
  {
   "cell_type": "code",
   "execution_count": 19,
   "metadata": {},
   "outputs": [
    {
     "name": "stdout",
     "output_type": "stream",
     "text": [
      "[6.922918 6.922918 6.922918 6.922918 6.922918 6.922918 6.922918 6.922918\n",
      " 6.922918 6.922918 6.922918 6.922918 6.922918 6.922918 6.922918 6.922918\n",
      " 6.922918 6.922918 6.922918 6.922918 6.922918 6.922918 6.922918 6.922918\n",
      " 6.922918 6.922918 6.922918 6.922918 6.922918 6.922918 6.922918 6.922918\n",
      " 6.922918 6.922918 6.922918 6.922918 6.922918 6.922918 6.922918 6.922918\n",
      " 6.922918 6.922918 6.922918 6.922918 6.922918 6.922918 6.922918 6.922918\n",
      " 6.922918 6.922918]\n"
     ]
    }
   ],
   "source": [
    "vectorizer.idf_ = sorted(vectorizer.idf_, reverse= True)\n",
    "print(vectorizer.idf_[:50])\n",
    "#sklearn's idf output"
   ]
  },
  {
   "cell_type": "code",
   "execution_count": 20,
   "metadata": {},
   "outputs": [
    {
     "name": "stderr",
     "output_type": "stream",
     "text": [
      "c:\\users\\yerpu\\appdata\\local\\programs\\python\\python38-32\\lib\\site-packages\\scipy\\sparse\\_index.py:84: SparseEfficiencyWarning: Changing the sparsity structure of a csr_matrix is expensive. lil_matrix is more efficient.\n",
      "  self._set_intXint(row, col, x.flat[0])\n"
     ]
    },
    {
     "name": "stdout",
     "output_type": "stream",
     "text": [
      "  (0, 53)\t0.4123943870778812\n",
      "  (0, 688)\t0.4123943870778812\n",
      "  (0, 720)\t0.4123943870778812\n",
      "  (0, 1545)\t0.30566026894803877\n",
      "  (0, 1651)\t0.16192317905848022\n",
      "  (0, 1653)\t0.35781145622317734\n",
      "  (0, 2287)\t0.3377679916467555\n",
      "  (0, 2878)\t0.35781145622317734\n"
     ]
    }
   ],
   "source": [
    "# modifying the transform function as well for the pickle file\n",
    "def modified_transform(dataset, vocabulary, sortdict):\n",
    "\n",
    "    sparse_matrix= csr_matrix( (len(dataset), len(vocabulary)), dtype=np.float64)   \n",
    "    for row  in range(0,len(dataset)):\n",
    "        number_of_words_in_sentence=Counter(dataset[row].split())\n",
    "        for word in dataset[row].split():\n",
    "            if word in  list(vocabulary.keys()):\n",
    "               tf_idf_value=(number_of_words_in_sentence[word]/len(dataset[row].split()))*(sortdict[word])\n",
    "               sparse_matrix[row,vocabulary[word]]=tf_idf_value\n",
    "    # refferred : https://scikit-learn.org/stable/modules/generated/sklearn.preprocessing.normalize.html\n",
    "    output = normalize(sparse_matrix, norm='l2', axis=1, copy=True, return_norm=False)\n",
    "    return output\n",
    "final_output=modified_transform(corpus,vocabulary,sortdict)\n",
    "print(final_output[0])"
   ]
  },
  {
   "cell_type": "code",
   "execution_count": 21,
   "metadata": {},
   "outputs": [
    {
     "name": "stdout",
     "output_type": "stream",
     "text": [
      "  (0, 1545)\t0.3056602689480387\n",
      "  (0, 2878)\t0.3578114562231773\n",
      "  (0, 720)\t0.41239438707788106\n",
      "  (0, 688)\t0.41239438707788106\n",
      "  (0, 1651)\t0.1619231790584802\n",
      "  (0, 53)\t0.41239438707788106\n",
      "  (0, 1653)\t0.3578114562231773\n",
      "  (0, 2287)\t0.33776799164675547\n"
     ]
    }
   ],
   "source": [
    "# now let's check for the transform and tf-idf values\n",
    "print(X[0])"
   ]
  },
  {
   "cell_type": "code",
   "execution_count": 22,
   "metadata": {},
   "outputs": [
    {
     "data": {
      "text/plain": [
       "'Both the results satisfies with our implementation'"
      ]
     },
     "execution_count": 22,
     "metadata": {},
     "output_type": "execute_result"
    }
   ],
   "source": [
    "\"\"\"Both the results satisfies with our implementation\"\"\""
   ]
  },
  {
   "cell_type": "code",
   "execution_count": null,
   "metadata": {},
   "outputs": [],
   "source": []
  },
  {
   "cell_type": "code",
   "execution_count": null,
   "metadata": {},
   "outputs": [],
   "source": []
  },
  {
   "cell_type": "code",
   "execution_count": null,
   "metadata": {},
   "outputs": [],
   "source": []
  }
 ],
 "metadata": {
  "kernelspec": {
   "display_name": "Python 3 (ipykernel)",
   "language": "python",
   "name": "python3"
  },
  "language_info": {
   "codemirror_mode": {
    "name": "ipython",
    "version": 3
   },
   "file_extension": ".py",
   "mimetype": "text/x-python",
   "name": "python",
   "nbconvert_exporter": "python",
   "pygments_lexer": "ipython3",
   "version": "3.10.2"
  }
 },
 "nbformat": 4,
 "nbformat_minor": 4
}
